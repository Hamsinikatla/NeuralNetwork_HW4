{
  "cells": [
    {
      "cell_type": "markdown",
      "metadata": {
        "id": "view-in-github",
        "colab_type": "text"
      },
      "source": [
        "<a href=\"https://colab.research.google.com/github/Hamsinikatla/NeuralNetwork_HW4/blob/main/Welcome_To_Colab.ipynb\" target=\"_parent\"><img src=\"https://colab.research.google.com/assets/colab-badge.svg\" alt=\"Open In Colab\"/></a>"
      ]
    },
    {
      "cell_type": "code",
      "source": [
        "#Q1: NLP Preprocessing Pipeline\n",
        "\n",
        "# Step 1: Install NLTK\n",
        "!pip install -q nltk\n",
        "\n",
        "# Step 2: Import what we need\n",
        "import nltk\n",
        "from nltk.corpus import stopwords\n",
        "from nltk.stem import PorterStemmer\n",
        "import re\n",
        "\n",
        "# Step 3: Download only stopwords (no punkt!)\n",
        "nltk.download('stopwords')\n",
        "\n",
        "# Step 4: Simple tokenizer using regex\n",
        "def simple_tokenize(text):\n",
        "    return re.findall(r'\\b\\w+\\b', text)\n",
        "\n",
        "# Step 5: NLP pipeline\n",
        "def nlp_preprocessing_pipeline(sentence):\n",
        "    # 1. Tokenize\n",
        "    tokens = simple_tokenize(sentence)\n",
        "    print(\"Original Tokens:\", tokens)\n",
        "\n",
        "    # 2. Remove stopwords\n",
        "    stop_words = set(stopwords.words('english'))\n",
        "    filtered_tokens = [word for word in tokens if word.lower() not in stop_words]\n",
        "    print(\"Tokens Without Stopwords:\", filtered_tokens)\n",
        "\n",
        "    # 3. Stemming\n",
        "    stemmer = PorterStemmer()\n",
        "    stemmed_tokens = [stemmer.stem(word) for word in filtered_tokens]\n",
        "    print(\"Stemmed Words:\", stemmed_tokens)\n",
        "\n",
        "# Step 6: Run it\n",
        "sentence = \"NLP techniques are used in virtual assistants like Alexa and Siri.\"\n",
        "nlp_preprocessing_pipeline(sentence)\n"
      ],
      "metadata": {
        "id": "AvWNNfYgU-sx",
        "outputId": "94186a0c-8220-4266-cc42-cc8ebcf1a634",
        "colab": {
          "base_uri": "https://localhost:8080/"
        }
      },
      "execution_count": 18,
      "outputs": [
        {
          "output_type": "stream",
          "name": "stdout",
          "text": [
            "Original Tokens: ['NLP', 'techniques', 'are', 'used', 'in', 'virtual', 'assistants', 'like', 'Alexa', 'and', 'Siri']\n",
            "Tokens Without Stopwords: ['NLP', 'techniques', 'used', 'virtual', 'assistants', 'like', 'Alexa', 'Siri']\n",
            "Stemmed Words: ['nlp', 'techniqu', 'use', 'virtual', 'assist', 'like', 'alexa', 'siri']\n"
          ]
        },
        {
          "output_type": "stream",
          "name": "stderr",
          "text": [
            "[nltk_data] Downloading package stopwords to /root/nltk_data...\n",
            "[nltk_data]   Package stopwords is already up-to-date!\n"
          ]
        }
      ]
    },
    {
      "cell_type": "code",
      "source": [
        "#Q2: Named Entity Recognition with SpaCy\n",
        "\n",
        "# Import the necessary spaCy library\n",
        "import spacy\n",
        "\n",
        "# Load the model\n",
        "nlp = spacy.load(\"en_core_web_sm\")\n",
        "\n",
        "# Example sentence\n",
        "sentence = \"Barack Obama served as the 44th President of the United States and won the Nobel Peace Prize in 2009.\"\n",
        "\n",
        "# Process the sentence with spaCy\n",
        "doc = nlp(sentence)\n",
        "\n",
        "# Extract and print named entities\n",
        "for ent in doc.ents:\n",
        "    print(f\"Entity: {ent.text}, Label: {ent.label_}, Start: {ent.start_char}, End: {ent.end_char}\")"
      ],
      "metadata": {
        "id": "zzGQTfG1ZwoV",
        "outputId": "cf5435a5-2e32-4e7a-85ca-b2bf5cff6554",
        "colab": {
          "base_uri": "https://localhost:8080/"
        }
      },
      "execution_count": 32,
      "outputs": [
        {
          "output_type": "stream",
          "name": "stdout",
          "text": [
            "Entity: Barack Obama, Label: PERSON, Start: 0, End: 12\n",
            "Entity: 44th, Label: ORDINAL, Start: 27, End: 31\n",
            "Entity: the United States, Label: GPE, Start: 45, End: 62\n",
            "Entity: the Nobel Peace Prize, Label: WORK_OF_ART, Start: 71, End: 92\n",
            "Entity: 2009, Label: DATE, Start: 96, End: 100\n"
          ]
        }
      ]
    },
    {
      "cell_type": "code",
      "source": [
        "#Q3: Scaled Dot-Product Attention\n",
        "\n",
        "import numpy as np\n",
        "\n",
        "# Define the scaled dot-product attention function\n",
        "def scaled_dot_product_attention(Q, K, V):\n",
        "    # Step 1: Compute the dot product of Q and Kᵀ\n",
        "    matmul_qk = np.dot(Q, K.T)\n",
        "\n",
        "    # Step 2: Scale the dot product by dividing by the square root of the dimension of the key\n",
        "    d_k = K.shape[-1]  # key dimension (last dimension of K)\n",
        "    scaled_attention_logits = matmul_qk / np.sqrt(d_k)\n",
        "\n",
        "    # Step 3: Apply softmax to get attention weights\n",
        "    attention_weights = np.exp(scaled_attention_logits) / np.sum(np.exp(scaled_attention_logits), axis=-1, keepdims=True)\n",
        "\n",
        "    # Step 4: Multiply the attention weights by V to get the final output\n",
        "    output = np.dot(attention_weights, V)\n",
        "\n",
        "    return attention_weights, output\n",
        "\n",
        "# Test input matrices\n",
        "Q = np.array([[1, 0, 1, 0], [0, 1, 0, 1]])\n",
        "K = np.array([[1, 0, 1, 0], [0, 1, 0, 1]])\n",
        "V = np.array([[1, 2, 3, 4], [5, 6, 7, 8]])\n",
        "\n",
        "# Call the function and print the results\n",
        "attention_weights, output = scaled_dot_product_attention(Q, K, V)\n",
        "\n",
        "attention_weights, output\n"
      ],
      "metadata": {
        "id": "BeTsOoajWs-X",
        "outputId": "afc54e9d-71ca-481d-f24f-57ba54b63027",
        "colab": {
          "base_uri": "https://localhost:8080/"
        }
      },
      "execution_count": 21,
      "outputs": [
        {
          "output_type": "execute_result",
          "data": {
            "text/plain": [
              "(array([[0.73105858, 0.26894142],\n",
              "        [0.26894142, 0.73105858]]),\n",
              " array([[2.07576569, 3.07576569, 4.07576569, 5.07576569],\n",
              "        [3.92423431, 4.92423431, 5.92423431, 6.92423431]]))"
            ]
          },
          "metadata": {},
          "execution_count": 21
        }
      ]
    },
    {
      "cell_type": "code",
      "source": [
        "#Q4: Sentiment Analysis using HuggingFace Transformers\n",
        "\n",
        "# Step 1: Import necessary libraries\n",
        "from transformers import AutoTokenizer, AutoModelForSequenceClassification, pipeline\n",
        "\n",
        "# Step 2: Load the pre-trained model and tokenizer explicitly\n",
        "model_name = \"distilbert-base-uncased-finetuned-sst-2-english\"\n",
        "\n",
        "# Load the model and tokenizer explicitly to avoid warnings\n",
        "model = AutoModelForSequenceClassification.from_pretrained(model_name)\n",
        "tokenizer = AutoTokenizer.from_pretrained(model_name)\n",
        "\n",
        "# Step 3: Create the sentiment analysis pipeline\n",
        "sentiment_analyzer = pipeline(\"sentiment-analysis\", model=model, tokenizer=tokenizer)\n",
        "\n",
        "# Step 4: Input sentence for sentiment analysis\n",
        "sentence = \"Despite the high price, the performance of the new MacBook is outstanding.\"\n",
        "\n",
        "# Step 5: Perform sentiment analysis\n",
        "result = sentiment_analyzer(sentence)[0]  # Getting the first result since it's a list of dictionaries\n",
        "\n",
        "# Step 6: Extract label and confidence score\n",
        "label = result['label']\n",
        "confidence_score = result['score']\n",
        "\n",
        "# Step 7: Print the results\n",
        "print(f\"Sentiment: {label}\")\n",
        "print(f\"Confidence Score: {confidence_score:.4f}\")\n"
      ],
      "metadata": {
        "id": "koqVGzRjYwhM",
        "outputId": "49cb0e88-b064-4c89-8f56-44194b91e3d8",
        "colab": {
          "base_uri": "https://localhost:8080/"
        }
      },
      "execution_count": 31,
      "outputs": [
        {
          "output_type": "stream",
          "name": "stderr",
          "text": [
            "Device set to use cpu\n"
          ]
        },
        {
          "output_type": "stream",
          "name": "stdout",
          "text": [
            "Sentiment: POSITIVE\n",
            "Confidence Score: 0.9998\n"
          ]
        }
      ]
    }
  ],
  "metadata": {
    "colab": {
      "name": "Welcome To Colab",
      "provenance": [],
      "include_colab_link": true
    },
    "kernelspec": {
      "display_name": "Python 3",
      "name": "python3"
    }
  },
  "nbformat": 4,
  "nbformat_minor": 0
}